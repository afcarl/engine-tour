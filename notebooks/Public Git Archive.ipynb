{
 "cells": [
  {
   "cell_type": "markdown",
   "metadata": {},
   "source": [
    "# Analyzing the Public Git Archive with source{d} engine\n",
    "\n",
    "Let's start by downloading repositories into the `/repositories` directory.\n",
    "In order to do this you will need to install the `pga` tool.\n",
    "\n",
    "Run the following commands in your command line (they need to be executed outside of this docker container).\n",
    "If you need to install Go, follow the instructions in https://golang.org/doc/install.\n",
    "\n",
    "```bash\n",
    "$ git clone https://github.com/src-d/datasets\n",
    "$ cd datasets\n",
    "$ cd PublicGitArchive/pga\n",
    "$ go install\n",
    "```\n",
    "\n",
    "This will install the `pga` tool in your `GOPATH/bin`.\n",
    "\n",
    "Try running `pga -h` and you should see the available commands.\n",
    "\n",
    "### Downloading all src-d repositories\n",
    "\n",
    "First let's list all the repositories that match the url `/src-d/`. This should be all of the repositories under the `src-d` organization.\n",
    "\n",
    "```bash\n",
    "$ pga list --url /src-d/\n",
    "https://github.com/src-d/beanstool\n",
    "https://github.com/src-d/kmcuda\n",
    "https://github.com/src-d/hercules\n",
    "https://github.com/src-d/proteus\n",
    "https://github.com/src-d/lapjv\n",
    "https://github.com/src-d/go-kallax\n",
    "https://github.com/src-d/wmd-relax\n",
    "https://github.com/src-d/enry\n",
    "https://github.com/src-d/awesome-machine-learning-on-source-code\n",
    "https://github.com/src-d/go-git\n",
    "```\n",
    "\n",
    "Let's now download them and ask them to be stored inside of our `repositories` directory (the one at the root of this guide's repositiory.\n",
    "\n",
    "```\n",
    "$ pga get --url /src-d/ -o repositories\n",
    " 8 / 10 [=======================================================>--------------------------------]  80.00%\n",
    "```\n",
    "\n",
    "This shouldn't take long.\n",
    "\n",
    "### Downloading all Java repositories!\n",
    "\n",
    "Do you want to use all the repositories containing any Java code?\n",
    "You can use the `--language` or `-l` flag for this in `list` and `get`.\n",
    "\n",
    "```bash\n",
    "$ pga list -l java\n",
    "...\n",
    "```\n",
    "\n",
    "More flags will come soon, feel free to file an issue asking for something extra in htts://github.com/src-d/datasets.\n"
   ]
  },
  {
   "cell_type": "markdown",
   "metadata": {},
   "source": [
    "# Time to analyze\n",
    "\n",
    "Let's first make sure that there are any files inside of `/repositories`."
   ]
  },
  {
   "cell_type": "code",
   "execution_count": 1,
   "metadata": {},
   "outputs": [
    {
     "name": "stdout",
     "output_type": "stream",
     "text": [
      "/repositories\r\n",
      "/repositories/siva\r\n",
      "/repositories/siva/latest\r\n",
      "/repositories/siva/latest/05\r\n",
      "/repositories/siva/latest/05/05ea82f75e9ba7c2158e94dd4a714d359d0cab02.siva\r\n",
      "/repositories/siva/latest/33\r\n",
      "/repositories/siva/latest/33/338126bc0b8a7b447acf1830030a39c16bc39195.siva\r\n",
      "/repositories/siva/latest/5d\r\n",
      "/repositories/siva/latest/5d/5d7303c49ac984a9fec60523f2d5297682e16646.siva\r\n",
      "/repositories/siva/latest/65\r\n",
      "/repositories/siva/latest/65/65c397a8673c0f4b98e3867e5fd6efdaa7d9ccd2.siva\r\n",
      "/repositories/siva/latest/6b\r\n",
      "/repositories/siva/latest/6b/6bc52531e707eb4b9b875c418a84f2e100ff6e73.siva\r\n",
      "/repositories/siva/latest/73\r\n",
      "/repositories/siva/latest/73/738658b11c94345a8003fa41b5d19f39b09bba7f.siva\r\n",
      "/repositories/siva/latest/9e\r\n",
      "/repositories/siva/latest/9e/9e7f20d3c0a40a715f993db75adfbf56e268a30a.siva\r\n",
      "/repositories/siva/latest/c1\r\n",
      "/repositories/siva/latest/c1/c13587212de574c5dadeac9fa483367d53717abe.siva\r\n",
      "/repositories/siva/latest/cc\r\n",
      "/repositories/siva/latest/cc/cce947b98a050c6d356bc6ba95030254914027b1.siva\r\n",
      "/repositories/siva/latest/db\r\n",
      "/repositories/siva/latest/db/db191acb9884be36ec15e35bde798c449d26bebe.siva\r\n"
     ]
    }
   ],
   "source": [
    "! find /repositories"
   ]
  },
  {
   "cell_type": "markdown",
   "metadata": {},
   "source": [
    "This should have shown a bunch of `siva` files. These are pieces of the repositories we downloaded encoded in siva format. You can learn more about the format in https://github.com/src-d/siva.\n",
    "\n",
    "## Loading the repositories into the engine\n",
    "\n",
    "We will now start to use the source{d} engine from with its Python API. The libraries are available in this Docker container, so you don't need to do much to get started.\n",
    "\n",
    "First we need to import some packages."
   ]
  },
  {
   "cell_type": "code",
   "execution_count": 2,
   "metadata": {},
   "outputs": [],
   "source": [
    "from sourced.engine import Engine\n",
    "from pyspark.sql import SparkSession\n",
    "from pyspark.sql.functions import *"
   ]
  },
  {
   "cell_type": "markdown",
   "metadata": {},
   "source": [
    "Next we will create a Spark session, since the source{d} engine is powered by [Spark](https://spark.apache.org/)."
   ]
  },
  {
   "cell_type": "code",
   "execution_count": 3,
   "metadata": {},
   "outputs": [],
   "source": [
    "spark = SparkSession.builder\\\n",
    "  .master(\"local[*]\").appName(\"Examples\")\\\n",
    "  .getOrCreate()"
   ]
  },
  {
   "cell_type": "markdown",
   "metadata": {},
   "source": [
    "Now we create an instance of source{d} engine, asking it to parse all of the `siva` formatted files we downloaded."
   ]
  },
  {
   "cell_type": "code",
   "execution_count": 4,
   "metadata": {},
   "outputs": [],
   "source": [
    "engine = Engine(spark, \"/repositories/siva/latest/*/\", \"siva\")"
   ]
  },
  {
   "cell_type": "markdown",
   "metadata": {},
   "source": [
    "_Note_: If you had added repos in the `/repositories` directory by using `git clone` directly, you can use `\"standard\"` as the format parameter instead of `\"siva\"`.\n",
    "\n",
    "And finally, let's list all of the repositories we obtained from those files!"
   ]
  },
  {
   "cell_type": "code",
   "execution_count": 5,
   "metadata": {},
   "outputs": [
    {
     "name": "stdout",
     "output_type": "stream",
     "text": [
      "+--------------------------------------------------------+\n",
      "|id                                                      |\n",
      "+--------------------------------------------------------+\n",
      "|github.com/src-d/awesome-machine-learning-on-source-code|\n",
      "|github.com/src-d/go-git                                 |\n",
      "|github.com/src-d/hercules                               |\n",
      "|github.com/src-d/beanstool                              |\n",
      "|github.com/src-d/proteus                                |\n",
      "|github.com/src-d/enry                                   |\n",
      "|github.com/src-d/lapjv                                  |\n",
      "|github.com/src-d/wmd-relax                              |\n",
      "|github.com/src-d/go-kallax                              |\n",
      "|github.com/src-d/kmcuda                                 |\n",
      "+--------------------------------------------------------+\n",
      "\n"
     ]
    }
   ],
   "source": [
    "engine.repositories.select('id').distinct().show(10, False)"
   ]
  },
  {
   "cell_type": "markdown",
   "metadata": {},
   "source": [
    "This should have listed the 10 repositories we fetched, but don't worry if you get more, as the Public Git Archive datasets will evolve over time.\n",
    "\n",
    "What information do we have for each repository? Well, there's a lot, but a way to start exploring is to see the schema of the `repositories` table."
   ]
  },
  {
   "cell_type": "code",
   "execution_count": 6,
   "metadata": {},
   "outputs": [
    {
     "name": "stdout",
     "output_type": "stream",
     "text": [
      "root\n",
      " |-- id: string (nullable = false)\n",
      " |-- urls: array (nullable = false)\n",
      " |    |-- element: string (containsNull = false)\n",
      " |-- is_fork: boolean (nullable = true)\n",
      " |-- repository_path: string (nullable = true)\n",
      "\n"
     ]
    }
   ],
   "source": [
    "engine.repositories.printSchema()"
   ]
  },
  {
   "cell_type": "markdown",
   "metadata": {},
   "source": [
    "In addition to these fields in the schema, we can also access to all the references in the repository by using the `references` method, or simply get the hash for the `HEAD` reference in each repository."
   ]
  },
  {
   "cell_type": "code",
   "execution_count": 7,
   "metadata": {
    "scrolled": true
   },
   "outputs": [
    {
     "name": "stdout",
     "output_type": "stream",
     "text": [
      "+--------------------+---------------+--------------------+---------+\n",
      "|       repository_id|           name|                hash|is_remote|\n",
      "+--------------------+---------------+--------------------+---------+\n",
      "|github.com/src-d/...|refs/heads/HEAD|8adc7b4e324353ea6...|     true|\n",
      "|github.com/src-d/...|refs/heads/HEAD|c254447c1e1bd7857...|     true|\n",
      "|github.com/src-d/...|refs/heads/HEAD|98916b85c6fe08f2b...|     true|\n",
      "|github.com/src-d/...|refs/heads/HEAD|2a161296e79cc1c98...|     true|\n",
      "|github.com/src-d/...|refs/heads/HEAD|0db3b4b5536e6dc4d...|     true|\n",
      "|github.com/src-d/...|refs/heads/HEAD|3fea3cb739570b458...|     true|\n",
      "|github.com/src-d/...|refs/heads/HEAD|205141d7c3b7f600b...|     true|\n",
      "|github.com/src-d/...|refs/heads/HEAD|b77b1a244948d1a1d...|     true|\n",
      "|github.com/src-d/...|refs/heads/HEAD|014493bed229e27d8...|     true|\n",
      "|github.com/src-d/...|refs/heads/HEAD|8fb9cc2fee1b08597...|     true|\n",
      "+--------------------+---------------+--------------------+---------+\n",
      "\n"
     ]
    }
   ],
   "source": [
    "engine.repositories.references.head_ref.show()"
   ]
  },
  {
   "cell_type": "markdown",
   "metadata": {},
   "source": [
    "It is also very simple to select what fields we can to display with the `select` method."
   ]
  },
  {
   "cell_type": "code",
   "execution_count": 8,
   "metadata": {},
   "outputs": [
    {
     "name": "stdout",
     "output_type": "stream",
     "text": [
      "+--------------------------------------------------------+----------------------------------------+\n",
      "|repository_id                                           |hash                                    |\n",
      "+--------------------------------------------------------+----------------------------------------+\n",
      "|github.com/src-d/kmcuda                                 |8adc7b4e324353ea691743e446b7f433a31b0937|\n",
      "|github.com/src-d/wmd-relax                              |c254447c1e1bd7857499e638a29e68ddc2df32b6|\n",
      "|github.com/src-d/go-git                                 |98916b85c6fe08f2be5a235db43957d493ba37b9|\n",
      "|github.com/src-d/go-kallax                              |2a161296e79cc1c98a5dc303deecc223abb482e5|\n",
      "|github.com/src-d/enry                                   |0db3b4b5536e6dc4d9109d42897c00a5d92af0a7|\n",
      "|github.com/src-d/awesome-machine-learning-on-source-code|3fea3cb739570b45845bfad35e41f85307e95097|\n",
      "|github.com/src-d/proteus                                |205141d7c3b7f600b063260371ec9e41ed8a3827|\n",
      "|github.com/src-d/beanstool                              |b77b1a244948d1a1d6c16100f9c8c13d6d055160|\n",
      "|github.com/src-d/hercules                               |014493bed229e27d8a18b8d104e9ac062ef799e1|\n",
      "|github.com/src-d/lapjv                                  |8fb9cc2fee1b08597968ecc1d4d938aac059032d|\n",
      "+--------------------------------------------------------+----------------------------------------+\n",
      "\n"
     ]
    }
   ],
   "source": [
    "engine.repositories.references.head_ref.select('repository_id', 'hash').show(10, False)"
   ]
  },
  {
   "cell_type": "markdown",
   "metadata": {},
   "source": [
    "## Exploring a bit more\n",
    "\n",
    "Let's try to fetch the first line of the `README.md` file pointed by the `HEAD` reference in each repository."
   ]
  },
  {
   "cell_type": "code",
   "execution_count": 66,
   "metadata": {
    "scrolled": false
   },
   "outputs": [],
   "source": [
    "repos = engine.repositories\n",
    "head_refs = repos.references.head_ref\n",
    "tree_entries = head_refs.commits.tree_entries\n",
    "readmes = tree_entries.filter(tree_entries.path == 'README.md')\n",
    "contents = readmes.blobs.collect()"
   ]
  },
  {
   "cell_type": "code",
   "execution_count": 75,
   "metadata": {},
   "outputs": [
    {
     "name": "stdout",
     "output_type": "stream",
     "text": [
      "github.com/src-d/kmcuda\n",
      "\"Yinyang\" K-means and K-nn using NVIDIA CUDA\n",
      "\n",
      "github.com/src-d/wmd-relax\n",
      "Fast Word Mover's Distance\n",
      "\n",
      "github.com/src-d/go-git\n",
      "### Basic example\n",
      "\n",
      "github.com/src-d/go-kallax\n",
      "## Contents\n",
      "\n",
      "github.com/src-d/enry\n",
      "# enry [![GoDoc](https://godoc.org/gopkg.in/src-d/enry.v1?status.svg)](https://godoc.org/gopkg.in/src-d/enry.v1) [![Build Status](https://travis-ci.org/src-d/enry.svg?branch=master)](https://travis-ci.org/src-d/enry) [![codecov](https://codecov.io/gh/src-d/enry/branch/master/graph/badge.svg)](https://codecov.io/gh/src-d/enry)\n",
      "\n",
      "github.com/src-d/awesome-machine-learning-on-source-code\n",
      "# Awesome Machine Learning On Source Code [![Awesome Machine Learning On Source Code](https://awesome.re/badge.svg)](https://github.com/src-d/awesome-machine-learning-on-source-code)\n",
      "\n",
      "github.com/src-d/proteus\n",
      "# ![proteus](https://rawgit.com/src-d/proteus/master/proteus.svg)\n",
      "\n",
      "github.com/src-d/beanstool\n",
      "beanstool [![Circle CI](https://circleci.com/gh/src-d/beanstool.svg?style=svg)](https://circleci.com/gh/src-d/beanstool)\n",
      "\n",
      "github.com/src-d/hercules\n",
      "### Installation\n",
      "\n",
      "github.com/src-d/lapjv\n",
      "Linear Assignment Problem solver using Jonker-Volgenant algorithm\n",
      "\n"
     ]
    }
   ],
   "source": [
    "for row in contents:\n",
    "    print(row.repository_id)\n",
    "    lines = [l.decode(\"utf-8\") for l in row.content.splitlines()]\n",
    "    for (i, line) in enumerate(lines):\n",
    "        if len(line) == 0:\n",
    "            continue\n",
    "        if line[0] == '#':\n",
    "            print(line)\n",
    "            break\n",
    "        if line[0] == '=':\n",
    "            print(lines[i-1])\n",
    "            break\n",
    "    print('')"
   ]
  }
 ],
 "metadata": {
  "kernelspec": {
   "display_name": "Python 3",
   "language": "python",
   "name": "python3"
  },
  "language_info": {
   "codemirror_mode": {
    "name": "ipython",
    "version": 3
   },
   "file_extension": ".py",
   "mimetype": "text/x-python",
   "name": "python",
   "nbconvert_exporter": "python",
   "pygments_lexer": "ipython3",
   "version": "3.5.3"
  }
 },
 "nbformat": 4,
 "nbformat_minor": 2
}
